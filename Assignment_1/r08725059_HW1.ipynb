{
 "cells": [
  {
   "cell_type": "code",
   "execution_count": 1,
   "metadata": {},
   "outputs": [],
   "source": [
    "import pickle\n",
    "import numpy as np\n",
    "from sklearn import preprocessing    # Use for standardizing feature value\n",
    "from sklearn.neighbors import KNeighborsRegressor # Use for Q2\n",
    "import matplotlib.pylab as plt    # Use for Q2"
   ]
  },
  {
   "cell_type": "markdown",
   "metadata": {},
   "source": [
    "# Load data\n",
    "Load the msd_data1.pickle data from from msd_data1.pickle using pickle.load().\n",
    "\n",
    "Please make sure that msd_data1.pickle should be placed in the same folder."
   ]
  },
  {
   "cell_type": "code",
   "execution_count": 2,
   "metadata": {},
   "outputs": [],
   "source": [
    "data = {}\n",
    "file = open(\"msd_data1.pickle\",\"rb\")\n",
    "data = pickle.load(file)\n",
    "\n",
    "X_train = data['X_train']\n",
    "Y_train = data['Y_train']\n",
    "X_test = data['X_test']\n",
    "Y_test = data['Y_test']\n",
    "training_point_count = X_train.shape[0]\n",
    "testing_point_count = X_test.shape[0]"
   ]
  },
  {
   "cell_type": "markdown",
   "metadata": {},
   "source": [
    "# Preprocessing data\n",
    "Standardized all feature values so that all features have a zero mean and a unit variance."
   ]
  },
  {
   "cell_type": "code",
   "execution_count": 4,
   "metadata": {},
   "outputs": [],
   "source": [
    "# Scaled data has zero mean and unit variance\n",
    "X_train_scaled = preprocessing.scale(X_train)\n",
    "X_test_scaled = preprocessing.scale(X_test)"
   ]
  },
  {
   "cell_type": "markdown",
   "metadata": {},
   "source": [
    "# Q1: myknn_regressor"
   ]
  },
  {
   "cell_type": "markdown",
   "metadata": {},
   "source": [
    "## Q1.1 \n",
    "Create your myknn_regressor."
   ]
  },
  {
   "cell_type": "code",
   "execution_count": 5,
   "metadata": {},
   "outputs": [],
   "source": [
    "class myknn_regressor():\n",
    "    \n",
    "    def __init__(self, k_value, f_function):\n",
    "        self.k_value = k_value\n",
    "        self.f_function = f_function\n",
    "\n",
    "    def fit(self, X_train, Y_train):\n",
    "        self.X_train = X_train\n",
    "        self.Y_train = Y_train\n",
    "        self.training_point_count = X_train.shape[0]\n",
    "    \n",
    "    def predict(self, X_test):\n",
    "        testing_point_count =  X_test.shape[0]\n",
    "        Y_predict = []\n",
    "        \n",
    "        for x_test_num in range(testing_point_count):\n",
    "            x_test_n_dist_dict = {}\n",
    "            for i in range(self.training_point_count):\n",
    "                dist = np.linalg.norm(self.X_train[i] - X_test[x_test_num])\n",
    "                x_test_n_dist_dict[i] = dist\n",
    "            \n",
    "            # sort the dist_dict by value\n",
    "            x_test_n_dist_dict = dict(sorted(x_test_n_dist_dict.items(), key=lambda x: x[1]))\n",
    "            k_items = dict(list(x_test_n_dist_dict.items())[:self.k_value])\n",
    "            k_keys = list(k_items.keys())\n",
    "            \n",
    "            # remove outliers\n",
    "            no_outlier_num = []\n",
    "            k_items_y = self.Y_train[k_keys]     #存最近k個點的Y_train值\n",
    "            if self.f_function == 'remove_outliers':\n",
    "                Q1 = np.quantile(k_items_y, .25)\n",
    "                Q3 = np.quantile(k_items_y, .75)\n",
    "                IQR = Q3-Q1\n",
    "                for y_num in k_keys:\n",
    "                    if Y_train[y_num] <= (Q3 + (1.5*IQR)) and Y_train[y_num] >= (Q1-(1.5*IQR)):\n",
    "                        no_outlier_num.append(y_num)\n",
    "                k_items_y = Y_train[no_outlier_num]\n",
    "            \n",
    "            # 計算 predict 出來的 Y值\n",
    "            sum_train_y = 0\n",
    "            for y_value in k_items_y:\n",
    "                sum_train_y += y_value\n",
    "            average_y = sum_train_y / k_items_y.shape[0]\n",
    "            Y_predict.append(average_y)\n",
    "            \n",
    "        Y_predict = np.array(Y_predict)\n",
    "        return Y_predict"
   ]
  },
  {
   "cell_type": "markdown",
   "metadata": {},
   "source": [
    "## Q1.2 \n",
    "Load data from msd_data1.pickle. You should standardized all feature values so that all features have a zero mean and a unit variance before training a KNN model. Make predictions using  𝑘=20 and \"equal_weight\" 𝑓. List the RMSE and the first 20 predictions in the testing data."
   ]
  },
  {
   "cell_type": "code",
   "execution_count": 6,
   "metadata": {},
   "outputs": [],
   "source": [
    "myknn = myknn_regressor(20, 'equal_weight')\n",
    "myknn.fit(X_train_scaled, Y_train)\n",
    "ypred = myknn.predict(X_test_scaled)"
   ]
  },
  {
   "cell_type": "code",
   "execution_count": 7,
   "metadata": {},
   "outputs": [
    {
     "name": "stdout",
     "output_type": "stream",
     "text": [
      "10.292158827638314\n",
      "[1992.9  1994.05 2000.05 1991.5  1992.8  1998.5  1987.1  1990.9  2001.8\n",
      " 2003.   2001.15 1998.65 1995.55 1997.2  1995.05 1997.35 1992.15 1999.1\n",
      " 2003.6 ]\n"
     ]
    }
   ],
   "source": [
    "# list the RMSE\n",
    "rmse = np.linalg.norm(Y_test - ypred) / (testing_point_count** 0.5)\n",
    "print(rmse)\n",
    "\n",
    "# list the first 20 predictions in the testing data\n",
    "print(ypred[:19])"
   ]
  },
  {
   "cell_type": "markdown",
   "metadata": {},
   "source": [
    "## Q1.3\n",
    "Load data from msd_data1.pickle. Standardized all feature values so that all features have a zero mean and unit variance. Make predictions using  𝑘=20 and \"remove_outier\" 𝑓. List the RMSE and the first 20 predictions in the testing data."
   ]
  },
  {
   "cell_type": "code",
   "execution_count": 9,
   "metadata": {},
   "outputs": [],
   "source": [
    "no_outliers_myknn = myknn_regressor(20, 'remove_outliers')\n",
    "no_outliers_myknn.fit(X_train_scaled, Y_train)\n",
    "no_outliers_ypred = no_outliers_myknn.predict(X_test_scaled)"
   ]
  },
  {
   "cell_type": "code",
   "execution_count": 10,
   "metadata": {},
   "outputs": [
    {
     "name": "stdout",
     "output_type": "stream",
     "text": [
      "10.225720983625129\n",
      "[1992.9        1994.05       2000.05       1992.73684211 1992.8\n",
      " 2000.         1987.1        1990.9        2001.8        2003.94736842\n",
      " 2001.15       2000.94444444 1995.55       1997.2        1998.61111111\n",
      " 1997.35       1992.15       2004.23529412 2003.6       ]\n"
     ]
    }
   ],
   "source": [
    "# list the RMSE\n",
    "no_outliers_rmse = np.linalg.norm(Y_test - no_outliers_ypred) / (no_outliers_ypred.shape[0]**0.5)\n",
    "print(no_outliers_rmse)\n",
    "\n",
    "# list the first 20 predictions in the testing data\n",
    "print(no_outliers_ypred[:19])"
   ]
  },
  {
   "cell_type": "markdown",
   "metadata": {},
   "source": [
    "# Q2: Tuning the Hyper-parameter\n",
    "We are going to explore the issue of hyper-parameter tuning in this question. We are going to consider three cases in this question. Use the knn regressor from klearn.neighbors.KNeighborsRegressor for the first two cases, and your own myknn_regressor for the third cases.\n",
    "\n",
    "For each case, plot a curve that shows the relations between  𝑘 (x-axis) and RMSE (y-axis). If possible, plot the three curves in the same figure so that we can visually inspect their dynamics. Discuss your observations."
   ]
  },
  {
   "cell_type": "code",
   "execution_count": 11,
   "metadata": {},
   "outputs": [],
   "source": [
    "k_list = [1,2,3,4,5,10,15,20,25,30,35,40,45,50,55,60,80,100,120,140,160,180,200]"
   ]
  },
  {
   "cell_type": "markdown",
   "metadata": {},
   "source": [
    "## Case 1\n",
    "In the first case, all feature values are standardize to have unit variances and zero means."
   ]
  },
  {
   "cell_type": "code",
   "execution_count": 12,
   "metadata": {},
   "outputs": [],
   "source": [
    "case1_rmse_dict = {}    # key = k, value = rmse\n",
    "for k in k_list:\n",
    "    case1_knn = KNeighborsRegressor(n_neighbors=k)\n",
    "    case1_knn.fit(X_train_scaled, Y_train)\n",
    "    case1_knn_ypred = case1_knn.predict(X_test_scaled)\n",
    "    case1_knn_rmse = np.linalg.norm(Y_test - case1_knn_ypred) / (testing_point_count** 0.5)\n",
    "    case1_rmse_dict[k] = case1_knn_rmse"
   ]
  },
  {
   "cell_type": "code",
   "execution_count": 13,
   "metadata": {},
   "outputs": [],
   "source": [
    "case1_rmse_dict_list = sorted(case1_rmse_dict.items()) # sorted by key, return a list of tuples\n",
    "case1_x, case1_y = zip(*case1_rmse_dict_list) # unpack a list of pairs into two tuples\n"
   ]
  },
  {
   "cell_type": "markdown",
   "metadata": {},
   "source": [
    "## Case 2\n",
    "For the second case, do not apply feature scaling"
   ]
  },
  {
   "cell_type": "code",
   "execution_count": 14,
   "metadata": {},
   "outputs": [],
   "source": [
    "case2_rmse_dict = {}    # key = k, value = rmse\n",
    "for k in k_list:\n",
    "    case2_knn = KNeighborsRegressor(n_neighbors=k)\n",
    "    case2_knn.fit(X_train, Y_train)\n",
    "    case2_knn_ypred = case2_knn.predict(X_test)\n",
    "    case2_knn_rmse = np.linalg.norm(Y_test - case2_knn_ypred) / (testing_point_count** 0.5)\n",
    "    case2_rmse_dict[k] = case2_knn_rmse"
   ]
  },
  {
   "cell_type": "code",
   "execution_count": 15,
   "metadata": {},
   "outputs": [],
   "source": [
    "case2_rmse_dict_list = sorted(case2_rmse_dict.items()) # sorted by key, return a list of tuples\n",
    "case2_x, case2_y = zip(*case2_rmse_dict_list) # unpack a list of pairs into two tuples\n"
   ]
  },
  {
   "cell_type": "markdown",
   "metadata": {},
   "source": [
    "## Case 3\n",
    "The third case use standardized feature and adopted myknn_regressor with \"remove_outlier\" 𝑓 to make prediction."
   ]
  },
  {
   "cell_type": "code",
   "execution_count": 17,
   "metadata": {},
   "outputs": [],
   "source": [
    "case3_rmse_dict = {}    # key = k, value = rmse\n",
    "for k in k_list:\n",
    "    case3_knn = myknn_regressor(k, 'remove_outliers')\n",
    "    case3_knn.fit(X_train_scaled, Y_train)\n",
    "    \n",
    "    case3_knn_ypred = case3_knn.predict(X_test_scaled)\n",
    "    case3_knn_rmse = np.linalg.norm(Y_test - case3_knn_ypred) / (case3_knn_ypred.shape[0]**0.5)\n",
    "    case3_rmse_dict[k] = case3_knn_rmse"
   ]
  },
  {
   "cell_type": "code",
   "execution_count": 18,
   "metadata": {},
   "outputs": [],
   "source": [
    "case3_rmse_dict_list = sorted(case3_rmse_dict.items()) # sorted by key, return a list of tuples\n",
    "case3_x, case3_y = zip(*case3_rmse_dict_list) # unpack a list of pairs into two tuples\n"
   ]
  },
  {
   "cell_type": "markdown",
   "metadata": {},
   "source": [
    "## Plot"
   ]
  },
  {
   "cell_type": "code",
   "execution_count": 19,
   "metadata": {},
   "outputs": [
    {
     "data": {
      "image/png": "[encoded data removed]",
      "text/plain": [
       "<Figure size 432x288 with 1 Axes>"
      ]
     },
     "metadata": {
      "needs_background": "light"
     },
     "output_type": "display_data"
    }
   ],
   "source": [
    "plt.plot(case1_x, case1_y, label = 'case1')\n",
    "plt.plot(case2_x, case2_y, label = 'case2')\n",
    "plt.plot(case3_x, case3_y, label = 'case3')\n",
    "plt.xlabel('k')\n",
    "plt.ylabel('RMSE')\n",
    "plt.legend()\n",
    "plt.show()"
   ]
  },
  {
   "cell_type": "markdown",
   "metadata": {},
   "source": [
    "## Discussion"
   ]
  },
  {
   "cell_type": "markdown",
   "metadata": {},
   "source": [
    "上圖 X 軸為 k 值，Y 軸為 RMSE 值，橘色線為 case 2，藍色線為 case 1，綠色線為 case 3。\n",
    "從上圖可以觀察到，三個 case 在不同 k 值時 RMSE 的變化趨勢是相同的，當 k 介於 0-15之間時， RMSE 隨著 k 的增加急劇下降，自 25 以後下降逐漸趨緩，而當 k 大於 125 時甚至有微微上升的趨勢。\n",
    "\n",
    "我們可以透過找 RMSE 的最小值來看哪一個 k 表現最好。\n",
    "case 2 的表現相較其他兩個 case 最不理想，而 case 3 的表現又略比 case 1 好。可以推估，在 feature 沒有做標準化的情況下，模型預測出來對上實際值的誤差最大，而移除 outliers 後更可以增加模型預測的準確度。"
   ]
  }
 ],
 "metadata": {
  "kernelspec": {
   "display_name": "Python 3",
   "language": "python",
   "name": "python3"
  },
  "language_info": {
   "codemirror_mode": {
    "name": "ipython",
    "version": 3
   },
   "file_extension": ".py",
   "mimetype": "text/x-python",
   "name": "python",
   "nbconvert_exporter": "python",
   "pygments_lexer": "ipython3",
   "version": "3.7.3"
  }
 },
 "nbformat": 4,
 "nbformat_minor": 4
}
