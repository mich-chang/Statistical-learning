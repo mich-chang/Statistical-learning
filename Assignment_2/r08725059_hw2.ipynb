{
 "cells": [
  {
   "cell_type": "code",
   "execution_count": 1,
   "metadata": {},
   "outputs": [],
   "source": [
    "import pandas as pd\n",
    "import numpy as np\n",
    "from sklearn import linear_model\n",
    "from sklearn import preprocessing \n",
    "\n",
    "# Use for visualization\n",
    "import matplotlib.pyplot as plt\n",
    "import seaborn as sns"
   ]
  },
  {
   "cell_type": "markdown",
   "metadata": {},
   "source": [
    "# Load data"
   ]
  },
  {
   "cell_type": "code",
   "execution_count": 2,
   "metadata": {},
   "outputs": [],
   "source": [
    "train = pd.read_csv('df1_train.csv')\n",
    "X_test = pd.read_csv('df1_test1.csv')\n",
    "Y_test = pd.read_csv('df1_test1y.csv')"
   ]
  },
  {
   "cell_type": "markdown",
   "metadata": {},
   "source": [
    "# Preprocessing data"
   ]
  },
  {
   "cell_type": "code",
   "execution_count": 3,
   "metadata": {},
   "outputs": [],
   "source": [
    "X_train = train.drop(['life_post_consumer'], axis=1)\n",
    "Y_train = train['life_post_consumer']\n",
    "\n",
    "# combine X_test and Y_test to test dataframe\n",
    "test = pd.concat([X_test, Y_test], axis=1)\n",
    "\n",
    "# alpha list (used at Ridge and Lasso regression)\n",
    "alpha_list = [0.01, 0.1, 1, 5, 10, 20, 50, 100, 500, 1000]"
   ]
  },
  {
   "cell_type": "markdown",
   "metadata": {},
   "source": [
    "## de-mean "
   ]
  },
  {
   "cell_type": "code",
   "execution_count": 4,
   "metadata": {},
   "outputs": [],
   "source": [
    "Y_train_mean = train['life_post_consumer'].mean()\n",
    "de_mean_Y_train = Y_train - Y_train_mean\n",
    "de_mean_Y_test = Y_test - Y_train_mean"
   ]
  },
  {
   "cell_type": "code",
   "execution_count": 5,
   "metadata": {},
   "outputs": [],
   "source": [
    "# numerical columns\n",
    "numerical_columns_list = ['life_post_consumer', 'comp_page_like', 'life_post_reach', 'life_post_impression_liked', 'life_post_reach_liked', 'comment', 'like', 'share']\n",
    "train_numerical = train[numerical_columns_list]\n",
    "X_train_numerical = train_numerical.drop(['life_post_consumer'], axis=1)\n",
    "X_test_numerical = X_test[numerical_columns_list[1:]]\n",
    "Y_test_numerical = Y_test\n",
    "\n",
    "# nonnumerical columns\n",
    "X_train_nonnumerical = train.drop(numerical_columns_list, axis=1)\n",
    "X_test_nonnumerical = X_test.drop(numerical_columns_list[1:], axis=1)"
   ]
  },
  {
   "cell_type": "markdown",
   "metadata": {},
   "source": [
    "## standardization"
   ]
  },
  {
   "cell_type": "code",
   "execution_count": 6,
   "metadata": {},
   "outputs": [],
   "source": [
    "xscaler = preprocessing.StandardScaler().fit(X_train_numerical)\n",
    "#standardize numerical feature values\n",
    "X_train_numerical_std_arr = xscaler.transform(X_train_numerical)\n",
    "X_test_numerical_std_arr = xscaler.transform(X_test_numerical)\n",
    "\n",
    "# standardize all feature values (binary features + numerical features)\n",
    "xscaler = preprocessing.StandardScaler().fit(X_train)\n",
    "X_train_std_arr = xscaler.transform(X_train)\n",
    "X_test_std_arr = xscaler.transform(X_test)"
   ]
  },
  {
   "cell_type": "code",
   "execution_count": 7,
   "metadata": {},
   "outputs": [],
   "source": [
    "# convert to numpy array \n",
    "Y_test_arr = np.array(Y_test['life_post_consumer'])\n",
    "X_train_arr = np.array(X_train)\n",
    "Y_train_arr = np.array(Y_train)\n",
    "X_test_arr = np.array(X_test)\n",
    "\n",
    "de_mean_Y_train_arr = np.array(de_mean_Y_train)\n",
    "de_mean_Y_test_arr = np.array(de_mean_Y_test['life_post_consumer'])\n",
    "\n",
    "X_train_nonnumerical_arr = np.array(X_train_nonnumerical)\n",
    "X_test_nonnumerical_arr = np.array(X_test_nonnumerical)\n",
    "\n",
    "# standardize numerical feature but without nonnumerical features\n",
    "X_train_numerical_std_only_arr = np.append(X_train_numerical_std_arr, X_train_nonnumerical_arr, axis=1)\n",
    "X_test_numerical_std_only_arr = np.append(X_test_numerical_std_arr, X_test_nonnumerical_arr, axis=1)\n",
    "\n"
   ]
  },
  {
   "cell_type": "markdown",
   "metadata": {},
   "source": [
    "# RMSE function"
   ]
  },
  {
   "cell_type": "code",
   "execution_count": 8,
   "metadata": {},
   "outputs": [],
   "source": [
    "def rmse_func(predict_arr, test_arr):\n",
    "    return np.sqrt(np.mean(np.square(test_arr - predict_arr)))\n",
    "    #return np.linalg.norm(test_arr - predict_arr) / (predict_arr.shape[0]**0.5)"
   ]
  },
  {
   "cell_type": "markdown",
   "metadata": {},
   "source": [
    "# Q1\n",
    "Conduct exploratory analysis on this dataset. You should at least provide summary statistics and visualizations of the key variables. Moreover, you should discuss the characteristics of this dataset."
   ]
  },
  {
   "cell_type": "markdown",
   "metadata": {},
   "source": [
    "## Descriptive Statistics"
   ]
  },
  {
   "cell_type": "markdown",
   "metadata": {},
   "source": [
    "### summary statistics"
   ]
  },
  {
   "cell_type": "code",
   "execution_count": 63,
   "metadata": {},
   "outputs": [],
   "source": [
    "# train data summary\n",
    "train.describe(include='all')\n",
    "train.describe(include='all').to_csv('describe.csv')"
   ]
  },
  {
   "cell_type": "markdown",
   "metadata": {},
   "source": [
    "### Click through rate (CTR)\n",
    "A ratio showing how often people who see your ad end up clicking it. \n",
    "\n",
    "Clickthrough rate (CTR) can be used to gauge how well your keywords and ads are performing."
   ]
  },
  {
   "cell_type": "code",
   "execution_count": 11,
   "metadata": {},
   "outputs": [
    {
     "data": {
      "text/plain": [
       "0.11431831536968667"
      ]
     },
     "execution_count": 11,
     "metadata": {},
     "output_type": "execute_result"
    }
   ],
   "source": [
    "# CTR = life_post_consumer / life_post_reach\n",
    "average_train_CTR = (train['life_post_consumer'] / train['life_post_reach']).mean()\n",
    "average_train_CTR"
   ]
  },
  {
   "cell_type": "markdown",
   "metadata": {},
   "source": [
    "## visualizations"
   ]
  },
  {
   "cell_type": "markdown",
   "metadata": {},
   "source": [
    "### Numerical variables Line chart"
   ]
  },
  {
   "cell_type": "code",
   "execution_count": 12,
   "metadata": {},
   "outputs": [
    {
     "data": {
      "text/plain": [
       "<matplotlib.axes._subplots.AxesSubplot at 0x1a1dee7940>"
      ]
     },
     "execution_count": 12,
     "metadata": {},
     "output_type": "execute_result"
    },
    {
     "data": {
      "image/png": "[encoded data removed]",
      "text/plain": [
       "<Figure size 432x288 with 1 Axes>"
      ]
     },
     "metadata": {
      "needs_background": "light"
     },
     "output_type": "display_data"
    }
   ],
   "source": [
    "# x='comp_page_like', y='life_post_consumer'\n",
    "train_numerical_sorted = train_numerical.sort_values('comp_page_like')\n",
    "train_numerical_sorted.plot(x='comp_page_like', y='life_post_consumer')"
   ]
  },
  {
   "cell_type": "code",
   "execution_count": 13,
   "metadata": {},
   "outputs": [
    {
     "data": {
      "text/plain": [
       "<matplotlib.axes._subplots.AxesSubplot at 0x1a1e379550>"
      ]
     },
     "execution_count": 13,
     "metadata": {},
     "output_type": "execute_result"
    },
    {
     "data": {
      "image/png": "[encoded data removed]",
      "text/plain": [
       "<Figure size 432x288 with 1 Axes>"
      ]
     },
     "metadata": {
      "needs_background": "light"
     },
     "output_type": "display_data"
    }
   ],
   "source": [
    "# x='life_post_reach', y='life_post_consumer'\n",
    "train_numerical_sorted = train_numerical.sort_values('life_post_reach')\n",
    "train_numerical_sorted.plot(x='life_post_reach', y='life_post_consumer')"
   ]
  },
  {
   "cell_type": "code",
   "execution_count": 14,
   "metadata": {},
   "outputs": [
    {
     "data": {
      "text/plain": [
       "<matplotlib.axes._subplots.AxesSubplot at 0x1a1e4b4358>"
      ]
     },
     "execution_count": 14,
     "metadata": {},
     "output_type": "execute_result"
    },
    {
     "data": {
      "image/png": "[encoded data removed]",
      "text/plain": [
       "<Figure size 432x288 with 1 Axes>"
      ]
     },
     "metadata": {
      "needs_background": "light"
     },
     "output_type": "display_data"
    }
   ],
   "source": [
    "# x='comment', y='life_post_consumer'\n",
    "train_numerical_sorted = train_numerical.sort_values('comment')\n",
    "train_numerical_sorted.plot(x='comment', y='life_post_consumer')"
   ]
  },
  {
   "cell_type": "code",
   "execution_count": 15,
   "metadata": {},
   "outputs": [
    {
     "data": {
      "text/plain": [
       "<matplotlib.axes._subplots.AxesSubplot at 0x1a1e5cc780>"
      ]
     },
     "execution_count": 15,
     "metadata": {},
     "output_type": "execute_result"
    },
    {
     "data": {
      "image/png": "[encoded data removed]",
      "text/plain": [
       "<Figure size 432x288 with 1 Axes>"
      ]
     },
     "metadata": {
      "needs_background": "light"
     },
     "output_type": "display_data"
    }
   ],
   "source": [
    "# x='like', y='life_post_consumer'\n",
    "train_numerical_sorted = train_numerical.sort_values('like')\n",
    "train_numerical_sorted.plot(x='like', y='life_post_consumer')"
   ]
  },
  {
   "cell_type": "code",
   "execution_count": 16,
   "metadata": {},
   "outputs": [
    {
     "data": {
      "text/plain": [
       "<matplotlib.axes._subplots.AxesSubplot at 0x1a1e5fba20>"
      ]
     },
     "execution_count": 16,
     "metadata": {},
     "output_type": "execute_result"
    },
    {
     "data": {
      "image/png": "[encoded data removed]",
      "text/plain": [
       "<Figure size 432x288 with 1 Axes>"
      ]
     },
     "metadata": {
      "needs_background": "light"
     },
     "output_type": "display_data"
    }
   ],
   "source": [
    "# x='share', y='life_post_consumer'\n",
    "train_numerical_sorted = train_numerical.sort_values('share')\n",
    "train_numerical_sorted.plot(x='share', y='life_post_consumer')"
   ]
  },
  {
   "cell_type": "markdown",
   "metadata": {},
   "source": [
    "### boxplot"
   ]
  },
  {
   "cell_type": "code",
   "execution_count": 17,
   "metadata": {},
   "outputs": [
    {
     "data": {
      "image/png": "[encoded data removed]",
      "text/plain": [
       "<Figure size 432x288 with 1 Axes>"
      ]
     },
     "metadata": {},
     "output_type": "display_data"
    }
   ],
   "source": [
    "sns.set(style=\"darkgrid\")\n",
    "train_boxplot = sns.boxplot(x = 'cat2', y='life_post_consumer', data=train, orient=\"v\")"
   ]
  },
  {
   "cell_type": "code",
   "execution_count": 64,
   "metadata": {},
   "outputs": [
    {
     "data": {
      "image/png": "[encoded data removed]",
      "text/plain": [
       "<Figure size 432x288 with 1 Axes>"
      ]
     },
     "metadata": {},
     "output_type": "display_data"
    }
   ],
   "source": [
    "sns.set(style=\"darkgrid\")\n",
    "train_boxplot = sns.boxplot(x = 'cat3', y='life_post_consumer', data=train, orient=\"v\")"
   ]
  },
  {
   "cell_type": "markdown",
   "metadata": {},
   "source": [
    "## Discussion"
   ]
  },
  {
   "cell_type": "markdown",
   "metadata": {},
   "source": [
    "從 Numerical variables Line chart 中我們可以看出，life_post_consumer 隨著 life_post_reachc、comment、like、share 的增加而增加，但 comp_page_like 的上升對於 life_post_consumer 而言並沒有增加。"
   ]
  },
  {
   "cell_type": "markdown",
   "metadata": {},
   "source": [
    "# Q2 (Case 1)\n",
    "The \"ymean\" method in Case 1 simply uses the mean of y in the training data to do prediction.\n",
    "\n",
    "Construct a prediction model using the setting of Case 1. What is the test RMSE? What are the predictions and true outcome values for the first 20 data points in the testing data?"
   ]
  },
  {
   "cell_type": "code",
   "execution_count": 18,
   "metadata": {},
   "outputs": [],
   "source": [
    "# prediction model\n",
    "y_mean = train['life_post_consumer'].mean()\n",
    "case1_predict = np.array(y_mean)\n",
    "for i in range(Y_test.shape[0]-1):\n",
    "    case1_predict = np.append(case1_predict, y_mean, axis=None)"
   ]
  },
  {
   "cell_type": "code",
   "execution_count": 19,
   "metadata": {},
   "outputs": [
    {
     "data": {
      "text/plain": [
       "928.8095109332162"
      ]
     },
     "execution_count": 19,
     "metadata": {},
     "output_type": "execute_result"
    }
   ],
   "source": [
    "# RMSE\n",
    "rmse_func(case1_predict, Y_test_arr)"
   ]
  },
  {
   "cell_type": "code",
   "execution_count": 20,
   "metadata": {},
   "outputs": [
    {
     "name": "stdout",
     "output_type": "stream",
     "text": [
      "prediction:  810.34 ; true outcome:  1183\n",
      "prediction:  810.34 ; true outcome:  189\n",
      "prediction:  810.34 ; true outcome:  2327\n",
      "prediction:  810.34 ; true outcome:  76\n",
      "prediction:  810.34 ; true outcome:  354\n",
      "prediction:  810.34 ; true outcome:  713\n",
      "prediction:  810.34 ; true outcome:  204\n",
      "prediction:  810.34 ; true outcome:  288\n",
      "prediction:  810.34 ; true outcome:  555\n",
      "prediction:  810.34 ; true outcome:  586\n",
      "prediction:  810.34 ; true outcome:  446\n",
      "prediction:  810.34 ; true outcome:  884\n",
      "prediction:  810.34 ; true outcome:  524\n",
      "prediction:  810.34 ; true outcome:  672\n",
      "prediction:  810.34 ; true outcome:  23\n",
      "prediction:  810.34 ; true outcome:  570\n",
      "prediction:  810.34 ; true outcome:  1361\n",
      "prediction:  810.34 ; true outcome:  5934\n",
      "prediction:  810.34 ; true outcome:  2319\n",
      "prediction:  810.34 ; true outcome:  1633\n"
     ]
    }
   ],
   "source": [
    "# predictions and true outcome values for the first 20 data points in the testing data\n",
    "for i in range(20):\n",
    "    print('prediction: ', y_mean, '; true outcome: ', Y_test['life_post_consumer'][i])"
   ]
  },
  {
   "cell_type": "markdown",
   "metadata": {},
   "source": [
    "# Q3 (Case 2A)\n",
    "Construct a prediction model using the setting of Case 2A. What is the test RMSE? What is the predictions and the true outcome values for the first 20 data points in the testing data?"
   ]
  },
  {
   "cell_type": "code",
   "execution_count": 21,
   "metadata": {},
   "outputs": [],
   "source": [
    "# prediction model\n",
    "case2A_reg = linear_model.LinearRegression()\n",
    "case2A_reg.fit(X_train_arr, Y_train_arr)\n",
    "case2A_predict = case2A_reg.predict(X_test_arr)"
   ]
  },
  {
   "cell_type": "code",
   "execution_count": 22,
   "metadata": {},
   "outputs": [
    {
     "data": {
      "text/plain": [
       "692.2891271362014"
      ]
     },
     "execution_count": 22,
     "metadata": {},
     "output_type": "execute_result"
    }
   ],
   "source": [
    "# rmse\n",
    "case2A_rmse = rmse_func(case2A_predict, Y_test_arr)\n",
    "case2A_rmse"
   ]
  },
  {
   "cell_type": "code",
   "execution_count": 23,
   "metadata": {},
   "outputs": [
    {
     "name": "stdout",
     "output_type": "stream",
     "text": [
      "prediction:  781.5799150705261 ; true outcome:  1183\n",
      "prediction:  315.9204311198173 ; true outcome:  189\n",
      "prediction:  2279.0848524011826 ; true outcome:  2327\n",
      "prediction:  -136.34286372729912 ; true outcome:  76\n",
      "prediction:  302.35624062148236 ; true outcome:  354\n",
      "prediction:  462.42402367947943 ; true outcome:  713\n",
      "prediction:  321.67770824369654 ; true outcome:  204\n",
      "prediction:  504.52244767621596 ; true outcome:  288\n",
      "prediction:  505.8954710411417 ; true outcome:  555\n",
      "prediction:  488.36700578015734 ; true outcome:  586\n",
      "prediction:  392.6142351937815 ; true outcome:  446\n",
      "prediction:  388.9184670987779 ; true outcome:  884\n",
      "prediction:  804.8752750894855 ; true outcome:  524\n",
      "prediction:  634.3236443157402 ; true outcome:  672\n",
      "prediction:  176.31765618431382 ; true outcome:  23\n",
      "prediction:  645.7291380968727 ; true outcome:  570\n",
      "prediction:  1983.5385887130587 ; true outcome:  1361\n",
      "prediction:  3144.397100454389 ; true outcome:  5934\n",
      "prediction:  4060.61071217642 ; true outcome:  2319\n",
      "prediction:  4288.223080997648 ; true outcome:  1633\n"
     ]
    }
   ],
   "source": [
    "# predictions and true outcome values for the first 20 data points in the testing data\n",
    "for i in range(20):\n",
    "    print('prediction: ', case2A_predict[i], '; true outcome: ', Y_test['life_post_consumer'][i])"
   ]
  },
  {
   "cell_type": "markdown",
   "metadata": {},
   "source": [
    "# Q4 (Case 2B)\n",
    "Construct a prediction model using the setting of Case 2B. What is the test RMSE? What is the predictions and the true outcome values for the first 20 data points in the testing data?"
   ]
  },
  {
   "cell_type": "code",
   "execution_count": 24,
   "metadata": {},
   "outputs": [],
   "source": [
    "# prediction model\n",
    "case2B_reg = linear_model.LinearRegression()\n",
    "case2B_reg.fit(X_train_arr, de_mean_Y_train_arr)\n",
    "case2B_predict = case2B_reg.predict(X_test_arr)\n",
    "case2B_predict += Y_train_mean"
   ]
  },
  {
   "cell_type": "code",
   "execution_count": 25,
   "metadata": {},
   "outputs": [
    {
     "data": {
      "text/plain": [
       "692.2891271361826"
      ]
     },
     "execution_count": 25,
     "metadata": {},
     "output_type": "execute_result"
    }
   ],
   "source": [
    "# rmse\n",
    "case2B_rmse = rmse_func(case2B_predict, Y_test_arr)\n",
    "case2B_rmse"
   ]
  },
  {
   "cell_type": "code",
   "execution_count": 26,
   "metadata": {},
   "outputs": [
    {
     "name": "stdout",
     "output_type": "stream",
     "text": [
      "prediction:  781.5799150699112 ; true outcome:  1183\n",
      "prediction:  315.9204311202501 ; true outcome:  189\n",
      "prediction:  2279.084852401056 ; true outcome:  2327\n",
      "prediction:  -136.34286372688996 ; true outcome:  76\n",
      "prediction:  302.3562406218424 ; true outcome:  354\n",
      "prediction:  462.4240236797049 ; true outcome:  713\n",
      "prediction:  321.67770824405113 ; true outcome:  204\n",
      "prediction:  504.5224476766251 ; true outcome:  288\n",
      "prediction:  505.89547104143446 ; true outcome:  555\n",
      "prediction:  488.36700578043735 ; true outcome:  586\n",
      "prediction:  392.61423519413063 ; true outcome:  446\n",
      "prediction:  388.91846709911067 ; true outcome:  884\n",
      "prediction:  804.8752750898637 ; true outcome:  524\n",
      "prediction:  634.3236443160221 ; true outcome:  672\n",
      "prediction:  176.31765618468842 ; true outcome:  23\n",
      "prediction:  645.7291380971382 ; true outcome:  570\n",
      "prediction:  1983.538588713188 ; true outcome:  1361\n",
      "prediction:  3144.3971004537407 ; true outcome:  5934\n",
      "prediction:  4060.6107121746036 ; true outcome:  2319\n",
      "prediction:  4288.223080997546 ; true outcome:  1633\n"
     ]
    }
   ],
   "source": [
    "# predictions and true outcome values for the first 20 data points in the testing data\n",
    "for i in range(20):\n",
    "    print('prediction: ', case2B_predict[i], '; true outcome: ', Y_test['life_post_consumer'][i])"
   ]
  },
  {
   "cell_type": "markdown",
   "metadata": {},
   "source": [
    "# Q5 (Case 2C)\n",
    "Construct a prediction model using the setting of Case 2C. What is the test RMSE? What is the predictions and the true outcome values for the first 20 data points in the testing data?"
   ]
  },
  {
   "cell_type": "code",
   "execution_count": 27,
   "metadata": {},
   "outputs": [],
   "source": [
    "# prediction model\n",
    "case2C_reg = linear_model.LinearRegression()\n",
    "case2C_reg.fit(X_train_std_arr, Y_train_arr)\n",
    "case2C_predict = case2C_reg.predict(X_test_std_arr)"
   ]
  },
  {
   "cell_type": "code",
   "execution_count": 28,
   "metadata": {},
   "outputs": [
    {
     "data": {
      "text/plain": [
       "692.2891271372004"
      ]
     },
     "execution_count": 28,
     "metadata": {},
     "output_type": "execute_result"
    }
   ],
   "source": [
    "# rmse\n",
    "case2C_rmse = rmse_func(case2C_predict, Y_test_arr)\n",
    "case2C_rmse"
   ]
  },
  {
   "cell_type": "code",
   "execution_count": 29,
   "metadata": {},
   "outputs": [
    {
     "name": "stdout",
     "output_type": "stream",
     "text": [
      "prediction:  781.5799150726216 ; true outcome:  1183\n",
      "prediction:  315.920431119648 ; true outcome:  189\n",
      "prediction:  2279.0848523990185 ; true outcome:  2327\n",
      "prediction:  -136.3428637274285 ; true outcome:  76\n",
      "prediction:  302.3562406214676 ; true outcome:  354\n",
      "prediction:  462.424023676746 ; true outcome:  713\n",
      "prediction:  321.6777082438841 ; true outcome:  204\n",
      "prediction:  504.5224476732244 ; true outcome:  288\n",
      "prediction:  505.8954710383021 ; true outcome:  555\n",
      "prediction:  488.3670057801714 ; true outcome:  586\n",
      "prediction:  392.6142351938508 ; true outcome:  446\n",
      "prediction:  388.9184670986671 ; true outcome:  884\n",
      "prediction:  804.8752750893686 ; true outcome:  524\n",
      "prediction:  634.3236443159298 ; true outcome:  672\n",
      "prediction:  176.31765618415284 ; true outcome:  23\n",
      "prediction:  645.7291380940395 ; true outcome:  570\n",
      "prediction:  1983.5385887135415 ; true outcome:  1361\n",
      "prediction:  3144.397100453245 ; true outcome:  5934\n",
      "prediction:  4060.610712187082 ; true outcome:  2319\n",
      "prediction:  4288.223081003456 ; true outcome:  1633\n"
     ]
    }
   ],
   "source": [
    "# predictions and true outcome values for the first 20 data points in the testing data\n",
    "for i in range(20):\n",
    "    print('prediction: ', case2C_predict[i], '; true outcome: ', Y_test['life_post_consumer'][i])"
   ]
  },
  {
   "cell_type": "markdown",
   "metadata": {},
   "source": [
    "# Q6 (Case 3A)\n",
    "Construct a prediction model using the setting of Case 3A. You should consider at least the following values for the regularization coefficient (α): 0.01, 0.1, 1, 5, 10, 20, 50, 100, 500, 1000. Plot the test RMSE with respect to α. What is the best test RMSE? What is the predictions and the true outcome values for the first 20 data points in the testing data using the best α ?"
   ]
  },
  {
   "cell_type": "code",
   "execution_count": 30,
   "metadata": {},
   "outputs": [],
   "source": [
    "# prediction model\n",
    "case3A_rmse_dict = {}\n",
    "for alpha in alpha_list: \n",
    "    case3A_reg = linear_model.Ridge(alpha = alpha)\n",
    "    case3A_reg.fit(X_train_arr, Y_train_arr)\n",
    "    case3A_predict = case3A_reg.predict(X_test_arr)\n",
    "    case3A_rmse = rmse_func(case3A_predict, Y_test_arr)\n",
    "    \n",
    "    case3A_rmse_dict[alpha] = case3A_rmse"
   ]
  },
  {
   "cell_type": "code",
   "execution_count": 51,
   "metadata": {},
   "outputs": [
    {
     "data": {
      "image/png": "[encoded data removed]",
      "text/plain": [
       "<Figure size 432x288 with 1 Axes>"
      ]
     },
     "metadata": {},
     "output_type": "display_data"
    }
   ],
   "source": [
    "# Plot the test RMSE with respect to α.\n",
    "case3A_rmse_dict_list = sorted(case3A_rmse_dict.items()) \n",
    "case3A_x, case3A_y = zip(*case3A_rmse_dict_list)\n",
    "plt.plot(case3A_x, case3A_y)\n",
    "plt.xlabel('alpha')\n",
    "plt.ylabel('RMSE')\n",
    "plt.show()"
   ]
  },
  {
   "cell_type": "code",
   "execution_count": 32,
   "metadata": {},
   "outputs": [
    {
     "name": "stdout",
     "output_type": "stream",
     "text": [
      "best rmse is:  660.5612900111673\n"
     ]
    }
   ],
   "source": [
    "# best rmse\n",
    "best_alpha = min(case3A_rmse_dict, key=case3A_rmse_dict.get)\n",
    "print('best rmse is: ', case3A_rmse_dict[best_alpha])"
   ]
  },
  {
   "cell_type": "code",
   "execution_count": 33,
   "metadata": {},
   "outputs": [
    {
     "name": "stdout",
     "output_type": "stream",
     "text": [
      "prediction:  1068.333623849239 ; true outcome:  1183\n",
      "prediction:  229.75531919984064 ; true outcome:  189\n",
      "prediction:  2008.5588919213267 ; true outcome:  2327\n",
      "prediction:  -102.87489949962924 ; true outcome:  76\n",
      "prediction:  541.4576994726492 ; true outcome:  354\n",
      "prediction:  606.459257558521 ; true outcome:  713\n",
      "prediction:  414.98279829467697 ; true outcome:  204\n",
      "prediction:  602.8105144219195 ; true outcome:  288\n",
      "prediction:  500.1843850761295 ; true outcome:  555\n",
      "prediction:  492.3066355810638 ; true outcome:  586\n",
      "prediction:  508.37649961334796 ; true outcome:  446\n",
      "prediction:  409.1300215282556 ; true outcome:  884\n",
      "prediction:  730.467680433911 ; true outcome:  524\n",
      "prediction:  561.0603282026203 ; true outcome:  672\n",
      "prediction:  294.450897227684 ; true outcome:  23\n",
      "prediction:  602.4828674601829 ; true outcome:  570\n",
      "prediction:  1632.1827150344566 ; true outcome:  1361\n",
      "prediction:  2698.882817822703 ; true outcome:  5934\n",
      "prediction:  3841.6315284622815 ; true outcome:  2319\n",
      "prediction:  3892.400909026028 ; true outcome:  1633\n"
     ]
    }
   ],
   "source": [
    "case3A_reg = linear_model.Ridge(alpha = best_alpha)\n",
    "case3A_reg.fit(X_train_arr, Y_train_arr)\n",
    "case3A_predict = case3A_reg.predict(X_test_arr)\n",
    "\n",
    "# predictions and true outcome values for the first 20 data points in the testing data\n",
    "for i in range(20):\n",
    "    print('prediction: ', case3A_predict[i], '; true outcome: ', Y_test['life_post_consumer'][i])"
   ]
  },
  {
   "cell_type": "markdown",
   "metadata": {},
   "source": [
    "# Q7 (Case 3B)\n",
    "Construct a prediction model using the setting of Case 3B. You should consider at least the following values for the regularization coefficient (α): 0.01, 0.1, 1, 5, 10, 20, 50, 100, 500, 1000. Plot the test RMSE with respect to α. What is the best test RMSE? What is the predictions and the true outcome values for the first 20 data points in the testing data using the best α ?"
   ]
  },
  {
   "cell_type": "code",
   "execution_count": 34,
   "metadata": {},
   "outputs": [],
   "source": [
    "# prediction model\n",
    "case3B_rmse_dict = {}\n",
    "for alpha in alpha_list: \n",
    "    case3B_reg = linear_model.Ridge(alpha = alpha)\n",
    "    case3B_reg.fit(X_train_numerical_std_only_arr, de_mean_Y_train_arr)\n",
    "    case3B_predict = case3B_reg.predict(X_test_numerical_std_only_arr) + Y_train_mean\n",
    "    case3B_rmse = rmse_func(case3B_predict, Y_test_arr)\n",
    "    \n",
    "    case3B_rmse_dict[alpha] = case3B_rmse"
   ]
  },
  {
   "cell_type": "code",
   "execution_count": 35,
   "metadata": {},
   "outputs": [
    {
     "data": {
      "image/png": "[encoded data removed]",
      "text/plain": [
       "<Figure size 432x288 with 1 Axes>"
      ]
     },
     "metadata": {},
     "output_type": "display_data"
    }
   ],
   "source": [
    "# Plot the test RMSE with respect to α.\n",
    "case3B_rmse_dict_list = sorted(case3B_rmse_dict.items()) \n",
    "case3B_x, case3B_y = zip(*case3B_rmse_dict_list)\n",
    "plt.plot(case3B_x, case3B_y)\n",
    "plt.xlabel('alpha')\n",
    "plt.ylabel('RMSE')\n",
    "plt.show()"
   ]
  },
  {
   "cell_type": "code",
   "execution_count": 36,
   "metadata": {},
   "outputs": [
    {
     "name": "stdout",
     "output_type": "stream",
     "text": [
      "best rmse is:  645.516812393874\n"
     ]
    }
   ],
   "source": [
    "# best rmse\n",
    "best_alpha = min(case3B_rmse_dict, key=case3B_rmse_dict.get)\n",
    "print('best rmse is: ', case3B_rmse_dict[best_alpha])"
   ]
  },
  {
   "cell_type": "code",
   "execution_count": 37,
   "metadata": {},
   "outputs": [
    {
     "name": "stdout",
     "output_type": "stream",
     "text": [
      "prediction:  1141.5849608863002 ; true outcome:  1183\n",
      "prediction:  234.13336380671728 ; true outcome:  189\n",
      "prediction:  1859.2306088943733 ; true outcome:  2327\n",
      "prediction:  -32.54724387392787 ; true outcome:  76\n",
      "prediction:  589.7796566659478 ; true outcome:  354\n",
      "prediction:  641.3317807846179 ; true outcome:  713\n",
      "prediction:  456.9213415383058 ; true outcome:  204\n",
      "prediction:  594.1984956283761 ; true outcome:  288\n",
      "prediction:  521.7915569541216 ; true outcome:  555\n",
      "prediction:  569.0720247196375 ; true outcome:  586\n",
      "prediction:  534.4719695804067 ; true outcome:  446\n",
      "prediction:  479.7454649206992 ; true outcome:  884\n",
      "prediction:  805.4029368816167 ; true outcome:  524\n",
      "prediction:  574.7172242203447 ; true outcome:  672\n",
      "prediction:  375.8101722911425 ; true outcome:  23\n",
      "prediction:  595.1652200120014 ; true outcome:  570\n",
      "prediction:  1467.667228118834 ; true outcome:  1361\n",
      "prediction:  2485.5766366606167 ; true outcome:  5934\n",
      "prediction:  3705.300880724885 ; true outcome:  2319\n",
      "prediction:  3646.001480423253 ; true outcome:  1633\n"
     ]
    }
   ],
   "source": [
    "case3B_reg = linear_model.Ridge(alpha = best_alpha)\n",
    "case3B_reg.fit(X_train_arr, de_mean_Y_train_arr)\n",
    "case3B_predict = case3B_reg.predict(X_test_arr) + Y_train_mean\n",
    "\n",
    "# predictions and true outcome values for the first 20 data points in the testing data\n",
    "for i in range(20):\n",
    "    print('prediction: ', case3B_predict[i], '; true outcome: ', Y_test['life_post_consumer'][i])"
   ]
  },
  {
   "cell_type": "markdown",
   "metadata": {},
   "source": [
    "# Q8 (Case 3C)\n",
    "Construct a prediction model using the setting of Case 3C. You should consider at least the following values for the regularization coefficient (α): 0.01, 0.1, 1, 5, 10, 20, 50, 100, 500, 1000. Plot the test RMSE with respect to α. What is the best test RMSE? What is the predictions and the true outcome values for the first 20 data points in the testing data using the best α ?"
   ]
  },
  {
   "cell_type": "code",
   "execution_count": 38,
   "metadata": {},
   "outputs": [],
   "source": [
    "# prediction model\n",
    "case3C_rmse_dict = {}\n",
    "for alpha in alpha_list: \n",
    "    case3C_reg = linear_model.Ridge(alpha = alpha)\n",
    "    case3C_reg.fit(X_train_arr, de_mean_Y_train_arr)\n",
    "    case3C_predict = case3C_reg.predict(X_test_arr) + Y_train_mean\n",
    "    case3C_rmse = rmse_func(case3C_predict, Y_test_arr)\n",
    "    \n",
    "    case3C_rmse_dict[alpha] = case3C_rmse"
   ]
  },
  {
   "cell_type": "code",
   "execution_count": 39,
   "metadata": {},
   "outputs": [
    {
     "data": {
      "image/png": "[encoded data removed]",
      "text/plain": [
       "<Figure size 432x288 with 1 Axes>"
      ]
     },
     "metadata": {},
     "output_type": "display_data"
    }
   ],
   "source": [
    "# Plot the test RMSE with respect to α.\n",
    "case3C_rmse_dict_list = sorted(case3C_rmse_dict.items()) \n",
    "case3C_x, case3C_y = zip(*case3C_rmse_dict_list)\n",
    "plt.plot(case3C_x, case3C_y)\n",
    "plt.xlabel('alpha')\n",
    "plt.ylabel('RMSE')\n",
    "plt.show()"
   ]
  },
  {
   "cell_type": "code",
   "execution_count": 40,
   "metadata": {},
   "outputs": [
    {
     "name": "stdout",
     "output_type": "stream",
     "text": [
      "best rmse is:  660.5612900111672\n"
     ]
    }
   ],
   "source": [
    "# best rmse\n",
    "best_alpha = min(case3C_rmse_dict, key=case3C_rmse_dict.get)\n",
    "print('best rmse is: ', case3C_rmse_dict[best_alpha])"
   ]
  },
  {
   "cell_type": "code",
   "execution_count": 41,
   "metadata": {},
   "outputs": [
    {
     "name": "stdout",
     "output_type": "stream",
     "text": [
      "prediction:  1068.3336238492388 ; true outcome:  1183\n",
      "prediction:  229.75531919984064 ; true outcome:  189\n",
      "prediction:  2008.5588919213264 ; true outcome:  2327\n",
      "prediction:  -102.87489949962924 ; true outcome:  76\n",
      "prediction:  541.457699472649 ; true outcome:  354\n",
      "prediction:  606.4592575585207 ; true outcome:  713\n",
      "prediction:  414.98279829467697 ; true outcome:  204\n",
      "prediction:  602.8105144219194 ; true outcome:  288\n",
      "prediction:  500.18438507612905 ; true outcome:  555\n",
      "prediction:  492.30663558106403 ; true outcome:  586\n",
      "prediction:  508.37649961334796 ; true outcome:  446\n",
      "prediction:  409.13002152825607 ; true outcome:  884\n",
      "prediction:  730.4676804339109 ; true outcome:  524\n",
      "prediction:  561.0603282026202 ; true outcome:  672\n",
      "prediction:  294.45089722768375 ; true outcome:  23\n",
      "prediction:  602.482867460183 ; true outcome:  570\n",
      "prediction:  1632.1827150344561 ; true outcome:  1361\n",
      "prediction:  2698.882817822703 ; true outcome:  5934\n",
      "prediction:  3841.631528462281 ; true outcome:  2319\n",
      "prediction:  3892.4009090260265 ; true outcome:  1633\n"
     ]
    }
   ],
   "source": [
    "case3C_reg = linear_model.Ridge(alpha = best_alpha)\n",
    "case3C_reg.fit(X_train_arr, de_mean_Y_train_arr)\n",
    "case3C_predict = case3C_reg.predict(X_test_arr) + Y_train_mean\n",
    "\n",
    "# predictions and true outcome values for the first 20 data points in the testing data\n",
    "for i in range(20):\n",
    "    print('prediction: ', case3C_predict[i], '; true outcome: ', Y_test['life_post_consumer'][i])"
   ]
  },
  {
   "cell_type": "markdown",
   "metadata": {},
   "source": [
    "# Q9 (Case 3D)\n",
    "Construct a prediction model using the setting of Case 3D. You should consider at least the following values for the regularization coefficient (α): 0.01, 0.1, 1, 5, 10, 20, 50, 100, 500, 1000. Plot the test RMSE with respect to α. What is the best test RMSE? What is the predictions and the true outcome values for the first 20 data points in the testing data using the best α ?"
   ]
  },
  {
   "cell_type": "code",
   "execution_count": 42,
   "metadata": {},
   "outputs": [],
   "source": [
    "# prediction model\n",
    "case3D_rmse_dict = {}\n",
    "for alpha in alpha_list: \n",
    "    case3D_reg = linear_model.Ridge(alpha = alpha)\n",
    "    case3D_reg.fit(X_train_std_arr, de_mean_Y_train_arr)\n",
    "    case3D_predict = case3D_reg.predict(X_test_std_arr) + Y_train_mean\n",
    "    case3D_rmse = rmse_func(case3D_predict, Y_test_arr)\n",
    "    \n",
    "    case3D_rmse_dict[alpha] = case3D_rmse"
   ]
  },
  {
   "cell_type": "code",
   "execution_count": 43,
   "metadata": {},
   "outputs": [
    {
     "data": {
      "image/png": "[encoded data removed]",
      "text/plain": [
       "<Figure size 432x288 with 1 Axes>"
      ]
     },
     "metadata": {},
     "output_type": "display_data"
    }
   ],
   "source": [
    "# Plot the test RMSE with respect to α.\n",
    "case3D_rmse_dict_list = sorted(case3D_rmse_dict.items()) \n",
    "case3D_x, case3D_y = zip(*case3D_rmse_dict_list)\n",
    "plt.plot(case3D_x, case3D_y)\n",
    "plt.xlabel('alpha')\n",
    "plt.ylabel('RMSE')\n",
    "plt.show()"
   ]
  },
  {
   "cell_type": "code",
   "execution_count": 44,
   "metadata": {},
   "outputs": [
    {
     "name": "stdout",
     "output_type": "stream",
     "text": [
      "best rmse is:  588.793465752767\n"
     ]
    }
   ],
   "source": [
    "# best rmse\n",
    "best_alpha = min(case3D_rmse_dict, key=case3D_rmse_dict.get)\n",
    "print('best rmse is: ', case3D_rmse_dict[best_alpha])"
   ]
  },
  {
   "cell_type": "code",
   "execution_count": 45,
   "metadata": {},
   "outputs": [
    {
     "name": "stdout",
     "output_type": "stream",
     "text": [
      "prediction:  1040.5001226108072 ; true outcome:  1183\n",
      "prediction:  278.46504979772 ; true outcome:  189\n",
      "prediction:  1997.724464270033 ; true outcome:  2327\n",
      "prediction:  -21.14036501815758 ; true outcome:  76\n",
      "prediction:  554.2152570974526 ; true outcome:  354\n",
      "prediction:  602.8406419024143 ; true outcome:  713\n",
      "prediction:  337.52346959154676 ; true outcome:  204\n",
      "prediction:  599.4357852626588 ; true outcome:  288\n",
      "prediction:  470.29370415993503 ; true outcome:  555\n",
      "prediction:  500.7241404018718 ; true outcome:  586\n",
      "prediction:  511.148619120353 ; true outcome:  446\n",
      "prediction:  387.74355349650676 ; true outcome:  884\n",
      "prediction:  700.0895765181288 ; true outcome:  524\n",
      "prediction:  532.2228096919928 ; true outcome:  672\n",
      "prediction:  255.183117783645 ; true outcome:  23\n",
      "prediction:  653.3563783030606 ; true outcome:  570\n",
      "prediction:  1728.1691916931402 ; true outcome:  1361\n",
      "prediction:  2775.002710950044 ; true outcome:  5934\n",
      "prediction:  3174.7922518929345 ; true outcome:  2319\n",
      "prediction:  3141.857976088326 ; true outcome:  1633\n"
     ]
    }
   ],
   "source": [
    "case3D_reg = linear_model.Ridge(alpha = best_alpha)\n",
    "case3D_reg.fit(X_train_std_arr, de_mean_Y_train_arr)\n",
    "case3D_predict = case3D_reg.predict(X_test_std_arr) + Y_train_mean\n",
    "\n",
    "# predictions and true outcome values for the first 20 data points in the testing data\n",
    "for i in range(20):\n",
    "    print('prediction: ', case3D_predict[i], '; true outcome: ', Y_test['life_post_consumer'][i])"
   ]
  },
  {
   "cell_type": "markdown",
   "metadata": {},
   "source": [
    "# Q10 (Case 4)\n",
    "Construct a prediction model using the setting of Case 4. You should consider at least the following values for the regularization coefficient (α): 0.01, 0.1, 1, 5, 10, 20, 50, 100, 500, 1000. Plot the test RMSE with respect to α. What is the best test RMSE? What is the predictions and the true outcome values for the first 20 data points in the testing data using the best α ?"
   ]
  },
  {
   "cell_type": "code",
   "execution_count": 46,
   "metadata": {},
   "outputs": [
    {
     "name": "stderr",
     "output_type": "stream",
     "text": [
      "/Users/michelle/anaconda3/lib/python3.7/site-packages/sklearn/linear_model/coordinate_descent.py:475: ConvergenceWarning: Objective did not converge. You might want to increase the number of iterations. Duality gap: 47976963.79253879, tolerance: 32249.892376\n",
      "  positive)\n",
      "/Users/michelle/anaconda3/lib/python3.7/site-packages/sklearn/linear_model/coordinate_descent.py:475: ConvergenceWarning: Objective did not converge. You might want to increase the number of iterations. Duality gap: 4456870.003093511, tolerance: 32249.892376\n",
      "  positive)\n"
     ]
    }
   ],
   "source": [
    "# prediction model\n",
    "case4_rmse_dict = {}\n",
    "for alpha in alpha_list: \n",
    "    case4_reg = linear_model.Lasso(alpha = alpha)\n",
    "    case4_reg.fit(X_train_numerical_std_only_arr, de_mean_Y_train_arr)\n",
    "    case4_predict = case4_reg.predict(X_test_numerical_std_only_arr) + Y_train_mean\n",
    "    case4_rmse = rmse_func(case4_predict, Y_test_arr)\n",
    "    \n",
    "    case4_rmse_dict[alpha] = case4_rmse"
   ]
  },
  {
   "cell_type": "code",
   "execution_count": 47,
   "metadata": {},
   "outputs": [
    {
     "data": {
      "image/png": "[encoded data removed]",
      "text/plain": [
       "<Figure size 432x288 with 1 Axes>"
      ]
     },
     "metadata": {},
     "output_type": "display_data"
    }
   ],
   "source": [
    "# Plot the test RMSE with respect to α.\n",
    "case4_rmse_dict_list = sorted(case4_rmse_dict.items()) \n",
    "case4_x, case4_y = zip(*case4_rmse_dict_list)\n",
    "plt.plot(case4_x, case4_y)\n",
    "plt.xlabel('alpha')\n",
    "plt.ylabel('RMSE')\n",
    "plt.show()"
   ]
  },
  {
   "cell_type": "code",
   "execution_count": 48,
   "metadata": {},
   "outputs": [
    {
     "name": "stdout",
     "output_type": "stream",
     "text": [
      "best rmse is:  643.3855039398903\n"
     ]
    }
   ],
   "source": [
    "# best rmse\n",
    "best_alpha = min(case4_rmse_dict, key=case4_rmse_dict.get)\n",
    "print('best rmse is: ', case4_rmse_dict[best_alpha])"
   ]
  },
  {
   "cell_type": "code",
   "execution_count": 49,
   "metadata": {},
   "outputs": [
    {
     "name": "stdout",
     "output_type": "stream",
     "text": [
      "prediction:  1251.4405053593619 ; true outcome:  1183\n",
      "prediction:  255.45495851335022 ; true outcome:  189\n",
      "prediction:  2146.839402243097 ; true outcome:  2327\n",
      "prediction:  -86.93151727695727 ; true outcome:  76\n",
      "prediction:  437.6208533632289 ; true outcome:  354\n",
      "prediction:  715.8034901060197 ; true outcome:  713\n",
      "prediction:  434.1051807964154 ; true outcome:  204\n",
      "prediction:  444.87806145559625 ; true outcome:  288\n",
      "prediction:  664.82715592965 ; true outcome:  555\n",
      "prediction:  563.1894415734931 ; true outcome:  586\n",
      "prediction:  406.06776633061077 ; true outcome:  446\n",
      "prediction:  476.4377256769676 ; true outcome:  884\n",
      "prediction:  925.2375588087532 ; true outcome:  524\n",
      "prediction:  607.2922431202459 ; true outcome:  672\n",
      "prediction:  326.3773714055194 ; true outcome:  23\n",
      "prediction:  542.9803800666762 ; true outcome:  570\n",
      "prediction:  1709.330201104854 ; true outcome:  1361\n",
      "prediction:  2664.404022496726 ; true outcome:  5934\n",
      "prediction:  3727.2675096862104 ; true outcome:  2319\n",
      "prediction:  3665.3672995803186 ; true outcome:  1633\n"
     ]
    }
   ],
   "source": [
    "case4_reg = linear_model.Lasso(alpha = best_alpha)\n",
    "case4_reg.fit(X_train_arr, de_mean_Y_train_arr)\n",
    "case4_predict = case4_reg.predict(X_test_arr) + Y_train_mean\n",
    "\n",
    "# predictions and true outcome values for the first 20 data points in the testing data\n",
    "for i in range(20):\n",
    "    print('prediction: ', case4_predict[i], '; true outcome: ', Y_test['life_post_consumer'][i])"
   ]
  },
  {
   "cell_type": "markdown",
   "metadata": {},
   "source": [
    "# Q11\n",
    "Summarize the best RMSE of all cases and discuss your findings. How should we preprocess the features?"
   ]
  },
  {
   "cell_type": "code",
   "execution_count": 59,
   "metadata": {},
   "outputs": [
    {
     "data": {
      "image/png": "[encoded data removed]",
      "text/plain": [
       "<Figure size 432x288 with 1 Axes>"
      ]
     },
     "metadata": {},
     "output_type": "display_data"
    }
   ],
   "source": [
    "plt.plot(case3A_x, case3A_y, label=\"case 3A\")\n",
    "plt.plot(case3B_x, case3B_y, label=\"case 3B\")\n",
    "plt.plot(case3C_x, case3C_y, label=\"case 3C\")\n",
    "plt.plot(case3D_x, case3D_y, label=\"case 3D\")\n",
    "plt.plot(case4_x, case4_y, label=\"case 4\")\n",
    "\n",
    "plt.xlabel('alpha')\n",
    "plt.ylabel('RMSE')\n",
    "plt.legend()\n",
    "plt.show()"
   ]
  },
  {
   "cell_type": "markdown",
   "metadata": {},
   "source": [
    "## Discussion"
   ]
  },
  {
   "cell_type": "markdown",
   "metadata": {},
   "source": [
    "上圖 X 軸為 alpha 值，Y 軸為 RMSE 值，各線條分別為 case 3A、3B、3C、3D、4 在不同情況下計算出來的 RMSE 與 alpha 值，而 case 3C 跟 case 3A 的 tunning 結果幾乎一致。\n",
    "我們可以透過找 RMSE 的最小值來看哪一個 k 表現最好。\n",
    "當 alpha 等於 0 時，各case 表現程度接近，但隨著 alpha 的提升可以看出 case 3D 的表現最好，在 alpha 從 0 提升至 100 時，RMSE 下降幅度最為劇烈，雖然 RMSE 在 100 以後隨著 alpha 值上升，但是其表現仍優於其他四個 case。另外，case 4 相較於 case 3 們 RMSE 都較高。\n",
    "可以推估，Ridge regression 的表現較 Lasso regression 好，而當 feature 進行標準化，Y 做 de-mean 處理後表現會更好。"
   ]
  },
  {
   "cell_type": "code",
   "execution_count": null,
   "metadata": {},
   "outputs": [],
   "source": []
  }
 ],
 "metadata": {
  "kernelspec": {
   "display_name": "Python 3",
   "language": "python",
   "name": "python3"
  },
  "language_info": {
   "codemirror_mode": {
    "name": "ipython",
    "version": 3
   },
   "file_extension": ".py",
   "mimetype": "text/x-python",
   "name": "python",
   "nbconvert_exporter": "python",
   "pygments_lexer": "ipython3",
   "version": "3.7.3"
  }
 },
 "nbformat": 4,
 "nbformat_minor": 4
}
